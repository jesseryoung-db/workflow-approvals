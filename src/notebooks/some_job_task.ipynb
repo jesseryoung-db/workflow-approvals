{
 "cells": [
  {
   "cell_type": "code",
   "execution_count": null,
   "id": "b91d1e51",
   "metadata": {},
   "outputs": [],
   "source": [
    "from datetime import datetime\n",
    "\n",
    "print(f\"Ran at {datetime.now().strftime('%Y-%m-%d %H:%M:%S')}\")"
   ]
  }
 ],
 "metadata": {
  "language_info": {
   "name": "python"
  }
 },
 "nbformat": 4,
 "nbformat_minor": 5
}
