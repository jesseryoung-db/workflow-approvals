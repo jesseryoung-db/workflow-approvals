{
 "cells": [
  {
   "cell_type": "code",
   "execution_count": null,
   "id": "2d43b43f",
   "metadata": {},
   "outputs": [],
   "source": [
    "dbutils.widgets.text(\"approvals_table_name\", \"\")"
   ]
  },
  {
   "cell_type": "code",
   "execution_count": null,
   "id": "ac3fb5d9",
   "metadata": {},
   "outputs": [],
   "source": [
    "approval_table = dbutils.widgets.get(\"approvals_table_name\")\n",
    "if approval_table == \"\":\n",
    "    raise ValueError(\"Missing approvals_table_name parameter\")"
   ]
  },
  {
   "cell_type": "code",
   "execution_count": null,
   "id": "3aa6e7cf",
   "metadata": {},
   "outputs": [],
   "source": [
    "spark.sql(\"\"\"\n",
    "          create or replace table identifier(:approval_table)\n",
    "          (\n",
    "            approval_id string primary key,\n",
    "            status string,\n",
    "            requested_at timestamp,\n",
    "            allowed_approvers array<string>,\n",
    "            source_job_run_id bigint,\n",
    "            target_job_id bigint,\n",
    "            approved_at timestamp,\n",
    "            approved_by string,\n",
    "            target_job_run_id bigint\n",
    "          );        \n",
    "\"\"\", args={\"approval_table\": approval_table})\n"
   ]
  },
  {
   "cell_type": "code",
   "execution_count": null,
   "id": "950a0b02",
   "metadata": {},
   "outputs": [],
   "source": [
    "spark.table(approval_table).printSchema()"
   ]
  },
  {
   "cell_type": "code",
   "execution_count": null,
   "id": "16569aea",
   "metadata": {},
   "outputs": [],
   "source": []
  }
 ],
 "metadata": {
  "kernelspec": {
   "display_name": "workflow-approvals-j0qhBNr_-py3.12",
   "language": "python",
   "name": "python3"
  },
  "language_info": {
   "codemirror_mode": {
    "name": "ipython",
    "version": 3
   },
   "file_extension": ".py",
   "mimetype": "text/x-python",
   "name": "python",
   "nbconvert_exporter": "python",
   "pygments_lexer": "ipython3",
   "version": "3.12.9"
  }
 },
 "nbformat": 4,
 "nbformat_minor": 5
}
