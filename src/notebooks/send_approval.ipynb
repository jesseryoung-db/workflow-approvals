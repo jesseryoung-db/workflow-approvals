{
 "cells": [
  {
   "cell_type": "code",
   "execution_count": null,
   "id": "95536319",
   "metadata": {},
   "outputs": [],
   "source": [
    "dbutils.widgets.text(\"approvals_table_name\", \"\")\n",
    "dbutils.widgets.text(\"allowed_approvers\", \"\")\n",
    "dbutils.widgets.text(\"source_job_run_id\", \"\")\n",
    "dbutils.widgets.text(\"target_job_id\", \"\")\n",
    "dbutils.widgets.text(\"approval_app_base_url\", \"\")\n"
   ]
  },
  {
   "cell_type": "code",
   "execution_count": null,
   "id": "c3445be6",
   "metadata": {},
   "outputs": [],
   "source": [
    "approvals_table_name = dbutils.widgets.get(\"approvals_table_name\")\n",
    "allowed_approvers = dbutils.widgets.get(\"allowed_approvers\")\n",
    "source_job_run_id = int(dbutils.widgets.get(\"source_job_run_id\"))\n",
    "target_job_id = int(dbutils.widgets.get(\"target_job_id\"))\n",
    "approval_app_base_url = dbutils.widgets.get(\"approval_app_base_url\")\n",
    "\n",
    "if approvals_table_name == \"\":\n",
    "    raise ValueError(\"approvals_table_name is required\")\n",
    "if allowed_approvers == \"\":\n",
    "    raise ValueError(\"allowed_approvers is required\")\n",
    "if source_job_run_id == \"\":\n",
    "    raise ValueError(\"source_job_run_id is required\")\n",
    "if target_job_id == \"\":\n",
    "    raise ValueError(\"target_job_id is required\")\n",
    "if approval_app_base_url == \"\":\n",
    "    raise ValueError(\"approval_app_base_url is required\")"
   ]
  },
  {
   "cell_type": "code",
   "execution_count": null,
   "id": "66ba572c",
   "metadata": {},
   "outputs": [],
   "source": [
    "import uuid\n",
    "approval_id = str(uuid.uuid4())\n",
    "spark.sql(\n",
    "    \"\"\"\n",
    "insert into\n",
    "  identifier(:approvals_table_name) (\n",
    "    approval_id,\n",
    "    status,\n",
    "    requested_at,\n",
    "    allowed_approvers,\n",
    "    source_job_run_id,\n",
    "    target_job_id\n",
    "  )\n",
    "values\n",
    "  (\n",
    "    :approval_id,\n",
    "    'PENDING',\n",
    "    current_timestamp(),\n",
    "    :allowed_approvers,\n",
    "    :source_job_run_id,\n",
    "    :target_job_id\n",
    "  )\n",
    "\"\"\",\n",
    "    args={\n",
    "        \"approval_id\": approval_id,\n",
    "        \"approvals_table_name\": approvals_table_name,\n",
    "        \"allowed_approvers\": allowed_approvers.split(\";\"),\n",
    "        \"source_job_run_id\": source_job_run_id,\n",
    "        \"target_job_id\": target_job_id,\n",
    "    },\n",
    ")"
   ]
  },
  {
   "cell_type": "code",
   "execution_count": null,
   "id": "e6d88c2a",
   "metadata": {},
   "outputs": [],
   "source": [
    "print(f\"Approval request created with ID: {approval_id}\")\n",
    "print(f\"Approval request URL: {approval_app_base_url}/approvals/{approval_id}\")\n"
   ]
  },
  {
   "cell_type": "code",
   "execution_count": null,
   "id": "b6ea5b2f",
   "metadata": {},
   "outputs": [],
   "source": [
    "# TODO: Add logic to send an email to the approvers with the approval request URL"
   ]
  }
 ],
 "metadata": {
  "kernelspec": {
   "display_name": "workflow-approvals-j0qhBNr_-py3.12",
   "language": "python",
   "name": "python3"
  },
  "language_info": {
   "codemirror_mode": {
    "name": "ipython",
    "version": 3
   },
   "file_extension": ".py",
   "mimetype": "text/x-python",
   "name": "python",
   "nbconvert_exporter": "python",
   "pygments_lexer": "ipython3",
   "version": "3.12.9"
  }
 },
 "nbformat": 4,
 "nbformat_minor": 5
}
